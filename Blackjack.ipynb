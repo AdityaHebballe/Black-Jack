{
 "cells": [
  {
   "cell_type": "code",
   "execution_count": 47,
   "metadata": {},
   "outputs": [
    {
     "ename": "ImportError",
     "evalue": "cannot import name 'Chips' from 'mymodules.player' (c:\\Users\\hebba\\OneDrive\\Blackjack\\Black-Jack\\mymodules\\player.py)",
     "output_type": "error",
     "traceback": [
      "\u001b[1;31m---------------------------------------------------------------------------\u001b[0m",
      "\u001b[1;31mImportError\u001b[0m                               Traceback (most recent call last)",
      "\u001b[1;32mc:\\Users\\hebba\\OneDrive\\Blackjack\\Black-Jack\\Blackjack.ipynb Cell 1\u001b[0m in \u001b[0;36m<cell line: 4>\u001b[1;34m()\u001b[0m\n\u001b[0;32m      <a href='vscode-notebook-cell:/c%3A/Users/hebba/OneDrive/Blackjack/Black-Jack/Blackjack.ipynb#X15sZmlsZQ%3D%3D?line=1'>2</a>\u001b[0m \u001b[39mfrom\u001b[39;00m \u001b[39mmymodules\u001b[39;00m\u001b[39m.\u001b[39;00m\u001b[39mcards\u001b[39;00m \u001b[39mimport\u001b[39;00m Cards\n\u001b[0;32m      <a href='vscode-notebook-cell:/c%3A/Users/hebba/OneDrive/Blackjack/Black-Jack/Blackjack.ipynb#X15sZmlsZQ%3D%3D?line=2'>3</a>\u001b[0m \u001b[39mfrom\u001b[39;00m \u001b[39mmymodules\u001b[39;00m\u001b[39m.\u001b[39;00m\u001b[39mcards\u001b[39;00m \u001b[39mimport\u001b[39;00m Deck\n\u001b[1;32m----> <a href='vscode-notebook-cell:/c%3A/Users/hebba/OneDrive/Blackjack/Black-Jack/Blackjack.ipynb#X15sZmlsZQ%3D%3D?line=3'>4</a>\u001b[0m \u001b[39mfrom\u001b[39;00m \u001b[39mmymodules\u001b[39;00m\u001b[39m.\u001b[39;00m\u001b[39mplayer\u001b[39;00m \u001b[39mimport\u001b[39;00m Chips\n\u001b[0;32m      <a href='vscode-notebook-cell:/c%3A/Users/hebba/OneDrive/Blackjack/Black-Jack/Blackjack.ipynb#X15sZmlsZQ%3D%3D?line=4'>5</a>\u001b[0m \u001b[39mfrom\u001b[39;00m \u001b[39mmymodules\u001b[39;00m\u001b[39m.\u001b[39;00m\u001b[39mcards\u001b[39;00m \u001b[39mimport\u001b[39;00m Table\n\u001b[0;32m      <a href='vscode-notebook-cell:/c%3A/Users/hebba/OneDrive/Blackjack/Black-Jack/Blackjack.ipynb#X15sZmlsZQ%3D%3D?line=5'>6</a>\u001b[0m \u001b[39mfrom\u001b[39;00m \u001b[39mIPython\u001b[39;00m\u001b[39m.\u001b[39;00m\u001b[39mdisplay\u001b[39;00m \u001b[39mimport\u001b[39;00m clear_output\n",
      "\u001b[1;31mImportError\u001b[0m: cannot import name 'Chips' from 'mymodules.player' (c:\\Users\\hebba\\OneDrive\\Blackjack\\Black-Jack\\mymodules\\player.py)"
     ]
    }
   ],
   "source": [
    "import random\n",
    "from mymodules.cards import Cards\n",
    "from mymodules.cards import Deck\n",
    "from mymodules.player import Chips\n",
    "from mymodules.cards import Table\n",
    "from IPython.display import clear_output\n",
    "    "
   ]
  },
  {
   "cell_type": "code",
   "execution_count": 42,
   "metadata": {},
   "outputs": [
    {
     "ename": "NameError",
     "evalue": "name 'Chips' is not defined",
     "output_type": "error",
     "traceback": [
      "\u001b[1;31m---------------------------------------------------------------------------\u001b[0m",
      "\u001b[1;31mNameError\u001b[0m                                 Traceback (most recent call last)",
      "\u001b[1;32mc:\\Users\\hebba\\OneDrive\\Blackjack\\Black-Jack\\Blackjack.ipynb Cell 2\u001b[0m in \u001b[0;36m<cell line: 1>\u001b[1;34m()\u001b[0m\n\u001b[1;32m----> <a href='vscode-notebook-cell:/c%3A/Users/hebba/OneDrive/Blackjack/Black-Jack/Blackjack.ipynb#X16sZmlsZQ%3D%3D?line=0'>1</a>\u001b[0m chipss\u001b[39m=\u001b[39mChips(total\u001b[39m=\u001b[39m\u001b[39m100\u001b[39m)\n\u001b[0;32m      <a href='vscode-notebook-cell:/c%3A/Users/hebba/OneDrive/Blackjack/Black-Jack/Blackjack.ipynb#X16sZmlsZQ%3D%3D?line=1'>2</a>\u001b[0m \u001b[39mdef\u001b[39;00m \u001b[39mask_bet\u001b[39m(chips):\n\u001b[0;32m      <a href='vscode-notebook-cell:/c%3A/Users/hebba/OneDrive/Blackjack/Black-Jack/Blackjack.ipynb#X16sZmlsZQ%3D%3D?line=2'>3</a>\u001b[0m     \u001b[39mwhile\u001b[39;00m \u001b[39mTrue\u001b[39;00m:\n",
      "\u001b[1;31mNameError\u001b[0m: name 'Chips' is not defined"
     ]
    }
   ],
   "source": [
    "chipss=Chips(total=100)\n",
    "def ask_bet(chips):\n",
    "    while True:\n",
    "        try:\n",
    "            chips.betting=int(input(\"How much would you like to bet: \"))\n",
    "        except:\n",
    "            print(\"Dont be an idiot\")\n",
    "            continue\n",
    "        else:\n",
    "            if chips.betting > chips.total:\n",
    "                print(\"Sorry, your bet can't exceed\",chips.total)\n",
    "            else:\n",
    "                break\n"
   ]
  },
  {
   "cell_type": "code",
   "execution_count": 43,
   "metadata": {},
   "outputs": [],
   "source": [
    "def hit_or_stand(player,deck,dealer):\n",
    "    while True:\n",
    "        try:\n",
    "            x=input(\"hit or stand\")\n",
    "            if x.startswith('h'):\n",
    "                player.add_card(deck.deal())\n",
    "                player.adjust_for_ace\n",
    "            elif x.startswith('s'):\n",
    "                print('dealer playing')\n",
    "                dealer.add_card(deck.deal())\n",
    "                dealer.adjust_for_ace\n",
    "    \n",
    "        except:\n",
    "            print(\"sorry try again\")\n",
    "            continue\n",
    "        else:\n",
    "            break\n",
    "    "
   ]
  },
  {
   "cell_type": "code",
   "execution_count": 44,
   "metadata": {},
   "outputs": [],
   "source": [
    "def wanna_play(game_on):\n",
    "    while True:\n",
    "        try:\n",
    "            game=input(\"do you wanna play again?(y or n)\")\n",
    "            if game.startswith('y'):\n",
    "                game_on=False\n",
    "            elif game.startswith('n'):\n",
    "                game_on=True\n",
    "        except:\n",
    "            print('nah')\n",
    "            continue\n",
    "        else:\n",
    "            break"
   ]
  },
  {
   "cell_type": "code",
   "execution_count": 45,
   "metadata": {},
   "outputs": [],
   "source": [
    "def ask_bet(chips):\n",
    "    while True:\n",
    "        try:\n",
    "            chips.betting=int(input(\"Enter how much to bet\"))\n",
    "        \n",
    "        except:\n",
    "            print(\"Enter a valid integer\")\n",
    "            continue\n",
    "        else:\n",
    "            break"
   ]
  },
  {
   "cell_type": "code",
   "execution_count": 46,
   "metadata": {},
   "outputs": [
    {
     "ename": "AttributeError",
     "evalue": "'list' object has no attribute 'shuffle'",
     "output_type": "error",
     "traceback": [
      "\u001b[1;31m---------------------------------------------------------------------------\u001b[0m",
      "\u001b[1;31mAttributeError\u001b[0m                            Traceback (most recent call last)",
      "\u001b[1;32mc:\\Users\\hebba\\OneDrive\\Blackjack\\Black-Jack\\Blackjack.ipynb Cell 6\u001b[0m in \u001b[0;36m<cell line: 3>\u001b[1;34m()\u001b[0m\n\u001b[0;32m      <a href='vscode-notebook-cell:/c%3A/Users/hebba/OneDrive/Blackjack/Black-Jack/Blackjack.ipynb#X23sZmlsZQ%3D%3D?line=2'>3</a>\u001b[0m \u001b[39mwhile\u001b[39;00m game_on:\n\u001b[0;32m      <a href='vscode-notebook-cell:/c%3A/Users/hebba/OneDrive/Blackjack/Black-Jack/Blackjack.ipynb#X23sZmlsZQ%3D%3D?line=3'>4</a>\u001b[0m     new_deck\u001b[39m=\u001b[39mDeck()\n\u001b[1;32m----> <a href='vscode-notebook-cell:/c%3A/Users/hebba/OneDrive/Blackjack/Black-Jack/Blackjack.ipynb#X23sZmlsZQ%3D%3D?line=4'>5</a>\u001b[0m     new_deck\u001b[39m.\u001b[39;49mshuffle()\n\u001b[0;32m      <a href='vscode-notebook-cell:/c%3A/Users/hebba/OneDrive/Blackjack/Black-Jack/Blackjack.ipynb#X23sZmlsZQ%3D%3D?line=5'>6</a>\u001b[0m     player\u001b[39m=\u001b[39mTable()\n\u001b[0;32m      <a href='vscode-notebook-cell:/c%3A/Users/hebba/OneDrive/Blackjack/Black-Jack/Blackjack.ipynb#X23sZmlsZQ%3D%3D?line=6'>7</a>\u001b[0m     dealer\u001b[39m=\u001b[39mTable()\n",
      "File \u001b[1;32mc:\\Users\\hebba\\OneDrive\\Blackjack\\Black-Jack\\mymodules\\cards.py:30\u001b[0m, in \u001b[0;36mshuffle\u001b[1;34m(self)\u001b[0m\n\u001b[0;32m     27\u001b[0m         \u001b[39mfor\u001b[39;00m rank \u001b[39min\u001b[39;00m ranks:\n\u001b[0;32m     28\u001b[0m             \u001b[39mself\u001b[39m\u001b[39m.\u001b[39mdeck\u001b[39m.\u001b[39mappend(Cards(suit,rank))\n\u001b[1;32m---> 30\u001b[0m \u001b[39mdef\u001b[39;00m \u001b[39mdeal\u001b[39m(\u001b[39mself\u001b[39m):\n\u001b[0;32m     31\u001b[0m     single_card\u001b[39m=\u001b[39m\u001b[39mself\u001b[39m\u001b[39m.\u001b[39mdeck\u001b[39m.\u001b[39mpop()\n\u001b[0;32m     32\u001b[0m     \u001b[39mreturn\u001b[39;00m single_card\n",
      "\u001b[1;31mAttributeError\u001b[0m: 'list' object has no attribute 'shuffle'"
     ]
    }
   ],
   "source": [
    "playing=True\n",
    "game_on=True\n",
    "while game_on:\n",
    "    new_deck=Deck()\n",
    "    new_deck.shuffle()\n",
    "    player=Table()\n",
    "    dealer=Table()\n",
    "    chips=Chips()\n",
    "    ask_bet(chips=chips)\n",
    "    player.value=0\n",
    "    dealer.value=0\n",
    "    player.add_card(new_deck.deal())\n",
    "    player.add_card(new_deck.deal())\n",
    "    dealer.add_card(new_deck.deal())\n",
    "    dealer.add_card(new_deck.deal())\n",
    "    dealer.show_dealer()\n",
    "    \n",
    "    player.show_player()\n",
    "    while playing:\n",
    "            if player.value<21 and dealer.value<17:\n",
    "                hit_or_stand(player=player,deck=new_deck,dealer=dealer)\n",
    "                dealer.show_dealer()\n",
    "                player.show_player()\n",
    "            elif player.value>=21:\n",
    "                dealer.show_dealer()\n",
    "                player.show_player()\n",
    "                print(\"\\n \\n Dealer wins\")\n",
    "                playing=False\n",
    "                break\n",
    "            elif dealer.value>17:\n",
    "                dealer.show_dealer\n",
    "                player.show_player\n",
    "                print(\"\\n \\nPlayer wins\")\n",
    "                playing=False\n",
    "                break\n",
    "    \n",
    "    new_game = input(\"Would you like to play another hand? Enter 'y' or 'n' \")\n",
    "    \n",
    "    if new_game[0].lower()=='y':\n",
    "        playing=True\n",
    "        continue\n",
    "    else:\n",
    "        print(\"Thanks for playing!\")\n",
    "        break\n",
    "\n",
    "\n",
    "\n"
   ]
  },
  {
   "cell_type": "code",
   "execution_count": null,
   "metadata": {},
   "outputs": [],
   "source": [
    "\n",
    "\n"
   ]
  },
  {
   "cell_type": "code",
   "execution_count": null,
   "metadata": {},
   "outputs": [],
   "source": []
  }
 ],
 "metadata": {
  "kernelspec": {
   "display_name": "Python 3 (ipykernel)",
   "language": "python",
   "name": "python3"
  },
  "language_info": {
   "codemirror_mode": {
    "name": "ipython",
    "version": 3
   },
   "file_extension": ".py",
   "mimetype": "text/x-python",
   "name": "python",
   "nbconvert_exporter": "python",
   "pygments_lexer": "ipython3",
   "version": "3.9.13"
  }
 },
 "nbformat": 4,
 "nbformat_minor": 2
}
