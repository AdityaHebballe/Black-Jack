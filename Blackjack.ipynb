{
 "cells": [
  {
   "cell_type": "code",
   "execution_count": 38,
   "metadata": {},
   "outputs": [],
   "source": [
    "import mymodules"
   ]
  },
  {
   "cell_type": "code",
   "execution_count": 40,
   "metadata": {},
   "outputs": [
    {
     "ename": "NameError",
     "evalue": "name 'suits' is not defined",
     "output_type": "error",
     "traceback": [
      "\u001b[1;31m---------------------------------------------------------------------------\u001b[0m",
      "\u001b[1;31mNameError\u001b[0m                                 Traceback (most recent call last)",
      "\u001b[1;32mc:\\Users\\hebba\\OneDrive\\Blackjack\\Black-Jack\\Blackjack.ipynb Cell 2\u001b[0m in \u001b[0;36m<cell line: 1>\u001b[1;34m()\u001b[0m\n\u001b[1;32m----> <a href='vscode-notebook-cell:/c%3A/Users/hebba/OneDrive/Blackjack/Black-Jack/Blackjack.ipynb#W2sZmlsZQ%3D%3D?line=0'>1</a>\u001b[0m dick\u001b[39m=\u001b[39mDeck()\n",
      "\u001b[1;32mc:\\Users\\hebba\\OneDrive\\Blackjack\\Black-Jack\\Blackjack.ipynb Cell 2\u001b[0m in \u001b[0;36mDeck.__init__\u001b[1;34m(self)\u001b[0m\n\u001b[0;32m      <a href='vscode-notebook-cell:/c%3A/Users/hebba/OneDrive/Blackjack/Black-Jack/Blackjack.ipynb#W2sZmlsZQ%3D%3D?line=1'>2</a>\u001b[0m \u001b[39mdef\u001b[39;00m \u001b[39m__init__\u001b[39m(\u001b[39mself\u001b[39m):\n\u001b[0;32m      <a href='vscode-notebook-cell:/c%3A/Users/hebba/OneDrive/Blackjack/Black-Jack/Blackjack.ipynb#W2sZmlsZQ%3D%3D?line=2'>3</a>\u001b[0m     \u001b[39mself\u001b[39m\u001b[39m.\u001b[39mdeck\u001b[39m=\u001b[39m[]\n\u001b[1;32m----> <a href='vscode-notebook-cell:/c%3A/Users/hebba/OneDrive/Blackjack/Black-Jack/Blackjack.ipynb#W2sZmlsZQ%3D%3D?line=3'>4</a>\u001b[0m     \u001b[39mfor\u001b[39;00m suit \u001b[39min\u001b[39;00m suits:\n\u001b[0;32m      <a href='vscode-notebook-cell:/c%3A/Users/hebba/OneDrive/Blackjack/Black-Jack/Blackjack.ipynb#W2sZmlsZQ%3D%3D?line=4'>5</a>\u001b[0m         \u001b[39mfor\u001b[39;00m rank \u001b[39min\u001b[39;00m ranks:\n\u001b[0;32m      <a href='vscode-notebook-cell:/c%3A/Users/hebba/OneDrive/Blackjack/Black-Jack/Blackjack.ipynb#W2sZmlsZQ%3D%3D?line=5'>6</a>\u001b[0m             \u001b[39mself\u001b[39m\u001b[39m.\u001b[39mdeck\u001b[39m.\u001b[39mappend(Cards(suit,rank))\n",
      "\u001b[1;31mNameError\u001b[0m: name 'suits' is not defined"
     ]
    }
   ],
   "source": [
    "dick=Deck()\n"
   ]
  },
  {
   "cell_type": "code",
   "execution_count": 25,
   "metadata": {},
   "outputs": [],
   "source": [
    "\n",
    "class Deck:\n",
    "    def __init__(self):\n",
    "        self.deck=[]\n",
    "        for suit in suits:\n",
    "            for rank in ranks:\n",
    "                self.deck.append(Cards(suit,rank))\n",
    "    \n",
    "    def shuffle(self):\n",
    "        self.deck.shuffle()\n",
    "    \n",
    "    def __str__(self):\n",
    "        for cards in self.deck:\n",
    "            return f\"{cards.suit} of {cards.rank}\""
   ]
  },
  {
   "cell_type": "code",
   "execution_count": null,
   "metadata": {},
   "outputs": [],
   "source": []
  }
 ],
 "metadata": {
  "kernelspec": {
   "display_name": "base",
   "language": "python",
   "name": "python3"
  },
  "language_info": {
   "codemirror_mode": {
    "name": "ipython",
    "version": 3
   },
   "file_extension": ".py",
   "mimetype": "text/x-python",
   "name": "python",
   "nbconvert_exporter": "python",
   "pygments_lexer": "ipython3",
   "version": "3.9.12"
  },
  "orig_nbformat": 4
 },
 "nbformat": 4,
 "nbformat_minor": 2
}
