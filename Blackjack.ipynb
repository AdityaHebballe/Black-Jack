{
 "cells": [
  {
   "cell_type": "code",
   "execution_count": 9,
   "metadata": {},
   "outputs": [],
   "source": [
    "from mymodules.cards import Cards\n",
    "from mymodules.cards import Deck\n",
    "from mymodules.player import Chips\n",
    "from mymodules.cards import Table"
   ]
  },
  {
   "cell_type": "code",
   "execution_count": 10,
   "metadata": {},
   "outputs": [],
   "source": [
    "chipss=Chips(total=100)\n",
    "def ask_bet(chips):\n",
    "    while True:\n",
    "        try:\n",
    "            chips.betting=int(input(\"How much would you like to bet: \"))\n",
    "        except:\n",
    "            print(\"Dont be an idiot\")\n",
    "            continue\n",
    "        else:\n",
    "            if chips.betting > chips.total:\n",
    "                print(\"Sorry, your bet can't exceed\",chips.total)\n",
    "            else:\n",
    "                break\n"
   ]
  },
  {
   "cell_type": "code",
   "execution_count": 11,
   "metadata": {},
   "outputs": [],
   "source": [
    "def hit_or_stand(player,deck):\n",
    "    while True:\n",
    "        try:\n",
    "            x=input(\"hit or stand\")\n",
    "            if x.startswith('h'):\n",
    "                player.add_card(deck.deal())\n",
    "            elif x.startswith('s'):\n",
    "                dealer.add_card(deck.deal())\n",
    "    \n",
    "        except:\n",
    "            print(\"sorry try again\")\n",
    "            continue\n",
    "        else:\n",
    "            break\n",
    "    "
   ]
  },
  {
   "cell_type": "code",
   "execution_count": 16,
   "metadata": {},
   "outputs": [
    {
     "ename": "AttributeError",
     "evalue": "type object 'Deck' has no attribute 'deal'",
     "output_type": "error",
     "traceback": [
      "\u001b[1;31m---------------------------------------------------------------------------\u001b[0m",
      "\u001b[1;31mAttributeError\u001b[0m                            Traceback (most recent call last)",
      "\u001b[1;32m~\\AppData\\Local\\Temp\\ipykernel_13856\\1850114748.py\u001b[0m in \u001b[0;36m<module>\u001b[1;34m\u001b[0m\n\u001b[0;32m      8\u001b[0m     \u001b[0mplayer\u001b[0m\u001b[1;33m=\u001b[0m\u001b[0mTable\u001b[0m\u001b[1;33m\u001b[0m\u001b[1;33m\u001b[0m\u001b[0m\n\u001b[0;32m      9\u001b[0m     \u001b[0mdealer\u001b[0m\u001b[1;33m=\u001b[0m\u001b[0mTable\u001b[0m\u001b[1;33m\u001b[0m\u001b[1;33m\u001b[0m\u001b[0m\n\u001b[1;32m---> 10\u001b[1;33m     \u001b[0mplayer\u001b[0m\u001b[1;33m.\u001b[0m\u001b[0madd_card\u001b[0m\u001b[1;33m(\u001b[0m\u001b[0mnew_deck\u001b[0m\u001b[1;33m.\u001b[0m\u001b[0mdeal\u001b[0m\u001b[1;33m(\u001b[0m\u001b[1;33m)\u001b[0m\u001b[1;33m)\u001b[0m\u001b[1;33m\u001b[0m\u001b[1;33m\u001b[0m\u001b[0m\n\u001b[0m\u001b[0;32m     11\u001b[0m     \u001b[0mplayer\u001b[0m\u001b[1;33m.\u001b[0m\u001b[0madd_card\u001b[0m\u001b[1;33m(\u001b[0m\u001b[0mnew_deck\u001b[0m\u001b[1;33m.\u001b[0m\u001b[0mdeal\u001b[0m\u001b[1;33m(\u001b[0m\u001b[1;33m)\u001b[0m\u001b[1;33m)\u001b[0m\u001b[1;33m\u001b[0m\u001b[1;33m\u001b[0m\u001b[0m\n\u001b[0;32m     12\u001b[0m     \u001b[0mdealer\u001b[0m\u001b[1;33m.\u001b[0m\u001b[0madd_card\u001b[0m\u001b[1;33m(\u001b[0m\u001b[0mnew_deck\u001b[0m\u001b[1;33m.\u001b[0m\u001b[0mdeal\u001b[0m\u001b[1;33m(\u001b[0m\u001b[1;33m)\u001b[0m\u001b[1;33m)\u001b[0m\u001b[1;33m\u001b[0m\u001b[1;33m\u001b[0m\u001b[0m\n",
      "\u001b[1;31mAttributeError\u001b[0m: type object 'Deck' has no attribute 'deal'"
     ]
    }
   ],
   "source": [
    "playing=True\n",
    "game_on=True\n",
    "\n",
    "while game_on:\n",
    "    \n",
    "    new_deck=Deck\n",
    "    new_deck.shuffle\n",
    "    player=Table\n",
    "    dealer=Table\n",
    "    player.add_card(new_deck.deal())\n",
    "    player.add_card(new_deck.deal())\n",
    "    dealer.add_card(new_deck.deal())\n",
    "    dealer.add_card(new_deck.deal())\n",
    "    while playing:\n",
    "            if player.value<21 and dealer.value<17:\n",
    "                hit_or_stand(player=player,deck=new_deck)\n",
    "            elif player.value>21:\n",
    "                print(\"Daler wins\")\n",
    "                playing=False\n",
    "                break\n",
    "            elif dealer.value>17:\n",
    "                print(\"Player wins\")\n",
    "                playing=False\n",
    "                break\n",
    "\n",
    "\n",
    "\n",
    "\n"
   ]
  },
  {
   "cell_type": "code",
   "execution_count": null,
   "metadata": {},
   "outputs": [],
   "source": [
    "\n",
    "\n",
    "\n"
   ]
  },
  {
   "cell_type": "code",
   "execution_count": null,
   "metadata": {},
   "outputs": [],
   "source": []
  }
 ],
 "metadata": {
  "kernelspec": {
   "display_name": "Python 3 (ipykernel)",
   "language": "python",
   "name": "python3"
  },
  "language_info": {
   "codemirror_mode": {
    "name": "ipython",
    "version": 3
   },
   "file_extension": ".py",
   "mimetype": "text/x-python",
   "name": "python",
   "nbconvert_exporter": "python",
   "pygments_lexer": "ipython3",
   "version": "3.9.13"
  }
 },
 "nbformat": 4,
 "nbformat_minor": 2
}
