{
 "cells": [
  {
   "cell_type": "code",
   "execution_count": 1,
   "metadata": {},
   "outputs": [],
   "source": [
    "import random\n",
    "from mymodules.cards import Cards\n",
    "from mymodules.cards import Deck\n",
    "from mymodules.player import Chips\n",
    "from mymodules.cards import Table\n",
    "from IPython.display import clear_output\n",
    "    "
   ]
  },
  {
   "cell_type": "code",
   "execution_count": 2,
   "metadata": {},
   "outputs": [],
   "source": [
    "chipss=Chips(total=100)\n",
    "def ask_bet(chips):\n",
    "    while True:\n",
    "        try:\n",
    "            chips.betting=int(input(\"How much would you like to bet: \"))\n",
    "        except:\n",
    "            print(\"Dont be an idiot\")\n",
    "            continue\n",
    "        else:\n",
    "            if chips.betting > chips.total:\n",
    "                print(\"Sorry, your bet can't exceed\",chips.total)\n",
    "            else:\n",
    "                break\n"
   ]
  },
  {
   "cell_type": "code",
   "execution_count": 3,
   "metadata": {},
   "outputs": [],
   "source": [
    "def hit_or_stand(player,deck,dealer):\n",
    "    while True:\n",
    "        try:\n",
    "            x=input(\"hit or stand\")\n",
    "            if x.startswith('h'):\n",
    "                player.add_card(deck.deal())\n",
    "                player.adjust_for_ace\n",
    "            elif x.startswith('s'):\n",
    "                print('dealer playing')\n",
    "                dealer.add_card(deck.deal())\n",
    "                dealer.adjust_for_ace\n",
    "    \n",
    "        except:\n",
    "            print(\"sorry try again\")\n",
    "            continue\n",
    "        else:\n",
    "            break\n",
    "    "
   ]
  },
  {
   "cell_type": "code",
   "execution_count": 4,
   "metadata": {},
   "outputs": [],
   "source": [
    "def wanna_play(game_on):\n",
    "    while True:\n",
    "        try:\n",
    "            game=input(\"do you wanna play again?(y or n)\")\n",
    "            if game.startswith('y'):\n",
    "                game_on=False\n",
    "            elif game.startswith('n'):\n",
    "                game_on=True\n",
    "        except:\n",
    "            print('nah')\n",
    "            continue\n",
    "        else:\n",
    "            break"
   ]
  },
  {
   "cell_type": "code",
   "execution_count": 9,
   "metadata": {},
   "outputs": [
    {
     "data": {
      "text/plain": [
       "[<mymodules.cards.Cards at 0x17c65049790>,\n",
       " <mymodules.cards.Cards at 0x17c64f90160>]"
      ]
     },
     "execution_count": 9,
     "metadata": {},
     "output_type": "execute_result"
    }
   ],
   "source": [
    "dealer.cards"
   ]
  },
  {
   "cell_type": "code",
   "execution_count": 16,
   "metadata": {},
   "outputs": [
    {
     "name": "stdout",
     "output_type": "stream",
     "text": [
      "Dealer's Cards: \n",
      "\n",
      "<card hidden>\n",
      "Two of Diamonds\n",
      "\n",
      "\n",
      "Player's Cards: \n",
      "\n",
      "Four of Diamonds\n",
      "Jack of Hearts\n",
      "dealer playing\n",
      "Dealer's Cards: \n",
      "\n",
      "<card hidden>\n",
      "Two of Diamonds\n",
      "Queen of Hearts\n",
      "\n",
      "\n",
      "Player's Cards: \n",
      "\n",
      "Four of Diamonds\n",
      "Jack of Hearts\n",
      "\n",
      " \n",
      "Player wins\n",
      "Thanks for playing!\n"
     ]
    }
   ],
   "source": [
    "playing=True\n",
    "game_on=True\n",
    "while game_on:\n",
    "    new_deck=Deck()\n",
    "    new_deck.shuffle()\n",
    "    player=Table()\n",
    "    dealer=Table()\n",
    "    player.value=0\n",
    "    dealer.value=0\n",
    "    player.add_card(new_deck.deal())\n",
    "    player.add_card(new_deck.deal())\n",
    "    dealer.add_card(new_deck.deal())\n",
    "    dealer.add_card(new_deck.deal())\n",
    "    dealer.show_dealer()\n",
    "    \n",
    "    player.show_player()\n",
    "    while playing:\n",
    "            if player.value<21 and dealer.value<17:\n",
    "                hit_or_stand(player=player,deck=new_deck,dealer=dealer)\n",
    "                dealer.show_dealer()\n",
    "                player.show_player()\n",
    "            elif player.value>=21:\n",
    "                dealer.show_dealer()\n",
    "                player.show_player()\n",
    "                print(\"\\n \\n Dealer wins\")\n",
    "                playing=False\n",
    "                break\n",
    "            elif dealer.value>17:\n",
    "                dealer.show_dealer\n",
    "                player.show_player\n",
    "                print(\"\\n \\nPlayer wins\")\n",
    "                playing=False\n",
    "                break\n",
    "    \n",
    "    new_game = input(\"Would you like to play another hand? Enter 'y' or 'n' \")\n",
    "    \n",
    "    if new_game[0].lower()=='y':\n",
    "        playing=True\n",
    "        continue\n",
    "    else:\n",
    "        print(\"Thanks for playing!\")\n",
    "        break\n",
    "\n",
    "\n",
    "\n"
   ]
  },
  {
   "cell_type": "code",
   "execution_count": null,
   "metadata": {},
   "outputs": [],
   "source": [
    "\n",
    "\n"
   ]
  },
  {
   "cell_type": "code",
   "execution_count": null,
   "metadata": {},
   "outputs": [],
   "source": []
  }
 ],
 "metadata": {
  "kernelspec": {
   "display_name": "Python 3 (ipykernel)",
   "language": "python",
   "name": "python3"
  },
  "language_info": {
   "codemirror_mode": {
    "name": "ipython",
    "version": 3
   },
   "file_extension": ".py",
   "mimetype": "text/x-python",
   "name": "python",
   "nbconvert_exporter": "python",
   "pygments_lexer": "ipython3",
   "version": "3.9.13"
  }
 },
 "nbformat": 4,
 "nbformat_minor": 2
}
