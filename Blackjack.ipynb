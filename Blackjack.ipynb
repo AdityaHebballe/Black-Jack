{
 "cells": [
  {
   "cell_type": "code",
   "execution_count": 1,
   "metadata": {},
   "outputs": [],
   "source": [
    "import random\n",
    "from mymodules.cards import Cards\n",
    "from mymodules.cards import Deck\n",
    "from mymodules.player import Chips\n",
    "from mymodules.cards import Table"
   ]
  },
  {
   "cell_type": "code",
   "execution_count": 2,
   "metadata": {},
   "outputs": [],
   "source": [
    "chipss = Chips(total=100)\n",
    "\n",
    "\n",
    "def ask_bet(chips):\n",
    "    while True:\n",
    "        try:\n",
    "            chips.betting = int(input(\"How much would you like to bet: \"))\n",
    "        except:\n",
    "            print(\"Dont be an idiot\")\n",
    "            continue\n",
    "        else:\n",
    "            if chips.betting > chips.total:\n",
    "                print(\"Sorry, your bet can't exceed\", chips.total)\n",
    "            else:\n",
    "                break"
   ]
  },
  {
   "cell_type": "code",
   "execution_count": 3,
   "metadata": {},
   "outputs": [],
   "source": [
    "def hit(player, deck):\n",
    "    player.add_card(deck.deal())\n",
    "    player.adjust_for_ace()\n",
    "\n",
    "\n",
    "def hit_or_stand(player, deck, dealer):\n",
    "    global playing\n",
    "    while True:\n",
    "        try:\n",
    "            x = input(\"hit or stand\")\n",
    "            if x.startswith('h'):\n",
    "                hit(player=player, deck=deck)\n",
    "            elif x.startswith('s'):\n",
    "                print('\\n Dealer playing')\n",
    "                playing = False\n",
    "                hit(player=dealer, deck=deck)\n",
    "\n",
    "        except:\n",
    "            print(\"sorry try again\")\n",
    "            continue\n",
    "        else:\n",
    "            break"
   ]
  },
  {
   "cell_type": "code",
   "execution_count": 5,
   "metadata": {},
   "outputs": [],
   "source": [
    "def ask_bet(chips):\n",
    "    while True:\n",
    "        try:\n",
    "            chips.betting = int(input(\"Enter how much to bet\"))\n",
    "\n",
    "        except:\n",
    "            print(\"Enter a valid integer\")\n",
    "            continue\n",
    "        else:\n",
    "            break"
   ]
  },
  {
   "cell_type": "code",
   "execution_count": 1,
   "metadata": {},
   "outputs": [
    {
     "ename": "NameError",
     "evalue": "name 'Deck' is not defined",
     "output_type": "error",
     "traceback": [
      "\u001b[1;31m---------------------------------------------------------------------------\u001b[0m",
      "\u001b[1;31mNameError\u001b[0m                                 Traceback (most recent call last)",
      "\u001b[1;32m~\\AppData\\Local\\Temp\\ipykernel_4000\\3490063778.py\u001b[0m in \u001b[0;36m<module>\u001b[1;34m\u001b[0m\n\u001b[0;32m      2\u001b[0m \u001b[1;33m\u001b[0m\u001b[0m\n\u001b[0;32m      3\u001b[0m \u001b[1;32mwhile\u001b[0m \u001b[1;32mTrue\u001b[0m\u001b[1;33m:\u001b[0m\u001b[1;33m\u001b[0m\u001b[1;33m\u001b[0m\u001b[0m\n\u001b[1;32m----> 4\u001b[1;33m     \u001b[0mnew_deck\u001b[0m \u001b[1;33m=\u001b[0m \u001b[0mDeck\u001b[0m\u001b[1;33m(\u001b[0m\u001b[1;33m)\u001b[0m\u001b[1;33m\u001b[0m\u001b[1;33m\u001b[0m\u001b[0m\n\u001b[0m\u001b[0;32m      5\u001b[0m     \u001b[0mnew_deck\u001b[0m\u001b[1;33m.\u001b[0m\u001b[0mshuffle\u001b[0m\u001b[1;33m(\u001b[0m\u001b[1;33m)\u001b[0m\u001b[1;33m\u001b[0m\u001b[1;33m\u001b[0m\u001b[0m\n\u001b[0;32m      6\u001b[0m     \u001b[0mplayer\u001b[0m \u001b[1;33m=\u001b[0m \u001b[0mTable\u001b[0m\u001b[1;33m(\u001b[0m\u001b[1;33m)\u001b[0m\u001b[1;33m\u001b[0m\u001b[1;33m\u001b[0m\u001b[0m\n",
      "\u001b[1;31mNameError\u001b[0m: name 'Deck' is not defined"
     ]
    }
   ],
   "source": [
    "playing = True\n",
    "\n",
    "while True:\n",
    "    new_deck = Deck()\n",
    "    new_deck.shuffle()\n",
    "    player = Table()\n",
    "    dealer = Table()\n",
    "    chips = Chips()\n",
    "    ask_bet(chips=chips)\n",
    "    print(f\"Player bets {chips.betting}\")\n",
    "    player.value = 0\n",
    "    dealer.value = 0\n",
    "    hit(player=player, deck=new_deck)\n",
    "    hit(player=player, deck=new_deck)\n",
    "    hit(player=dealer, deck=new_deck)\n",
    "    hit(player=dealer, deck=new_deck)\n",
    "    dealer.show_dealer_half()\n",
    "    player.show_player()\n",
    "\n",
    "    while playing:\n",
    "        hit_or_stand(player=player, deck=new_deck, dealer=dealer)\n",
    "        dealer.show_dealer_half()\n",
    "        player.show_player()\n",
    "        if player.value > 21:\n",
    "            print(\"\\n    Player Busts\")\n",
    "            chips.lose_bet()\n",
    "            break\n",
    "\n",
    "    if player.value <= 21:\n",
    "        while dealer.value < 17:\n",
    "            dealer.add_card(new_deck.deal())\n",
    "\n",
    "        dealer.show_dealer_half()\n",
    "        player.show_player()\n",
    "\n",
    "        if dealer.value > 21:\n",
    "            dealer.show_dealer_full\n",
    "            player.show_player\n",
    "            print(\" \\n    Dealer Busts\")\n",
    "            chips.win_bet()\n",
    "\n",
    "        elif player.value > dealer.value:\n",
    "            print(\"\\n    Player wins\")\n",
    "            chips.win_bet()\n",
    "\n",
    "        elif player.value < dealer.value:\n",
    "            print(\"\\n    Dealer wins\")\n",
    "            chips.lose_bet()\n",
    "\n",
    "        else:\n",
    "            print(\"\\nDealer and Player Tie\")\n",
    "\n",
    "    print(f\"\\nPlayer chips currently {chips.total}\")\n",
    "    new_game = input(\"Would you like to play another hand? Enter 'y' or 'n' \")\n",
    "\n",
    "    if new_game[0].lower() == 'y':\n",
    "        playing = True\n",
    "        continue\n",
    "\n",
    "    else:\n",
    "        print(\"Thanks for playing!\")\n",
    "        break"
   ]
  },
  {
   "cell_type": "code",
   "execution_count": null,
   "metadata": {},
   "outputs": [],
   "source": [
    "\n",
    "\n"
   ]
  },
  {
   "cell_type": "code",
   "execution_count": null,
   "metadata": {},
   "outputs": [],
   "source": []
  }
 ],
 "metadata": {
  "kernelspec": {
   "display_name": "Python 3 (ipykernel)",
   "language": "python",
   "name": "python3"
  },
  "language_info": {
   "codemirror_mode": {
    "name": "ipython",
    "version": 3
   },
   "file_extension": ".py",
   "mimetype": "text/x-python",
   "name": "python",
   "nbconvert_exporter": "python",
   "pygments_lexer": "ipython3",
   "version": "3.9.13"
  }
 },
 "nbformat": 4,
 "nbformat_minor": 2
}
