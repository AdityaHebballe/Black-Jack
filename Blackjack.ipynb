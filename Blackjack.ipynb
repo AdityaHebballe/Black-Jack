{
 "cells": [
  {
   "cell_type": "code",
   "execution_count": 37,
   "metadata": {},
   "outputs": [],
   "source": [
    "from mymodules.cards import Cards\n",
    "from mymodules.cards import Deck\n",
    "from mymodules.player import Betting\n",
    "from mymodules.cards import Table"
   ]
  },
  {
   "cell_type": "code",
   "execution_count": 38,
   "metadata": {},
   "outputs": [
    {
     "ename": "KeyboardInterrupt",
     "evalue": "",
     "output_type": "error",
     "traceback": [
      "\u001b[1;31m---------------------------------------------------------------------------\u001b[0m",
      "\u001b[1;31mKeyboardInterrupt\u001b[0m                         Traceback (most recent call last)",
      "\u001b[1;32mc:\\Users\\hebba\\OneDrive\\Blackjack\\Black-Jack\\Blackjack.ipynb Cell 2\u001b[0m in \u001b[0;36m<cell line: 4>\u001b[1;34m()\u001b[0m\n\u001b[0;32m      <a href='vscode-notebook-cell:/c%3A/Users/hebba/OneDrive/Blackjack/Black-Jack/Blackjack.ipynb#W2sZmlsZQ%3D%3D?line=2'>3</a>\u001b[0m game_on\u001b[39m=\u001b[39m\u001b[39mTrue\u001b[39;00m\n\u001b[0;32m      <a href='vscode-notebook-cell:/c%3A/Users/hebba/OneDrive/Blackjack/Black-Jack/Blackjack.ipynb#W2sZmlsZQ%3D%3D?line=3'>4</a>\u001b[0m \u001b[39mwhile\u001b[39;00m game_on:\n\u001b[1;32m----> <a href='vscode-notebook-cell:/c%3A/Users/hebba/OneDrive/Blackjack/Black-Jack/Blackjack.ipynb#W2sZmlsZQ%3D%3D?line=4'>5</a>\u001b[0m     new_deck\u001b[39m=\u001b[39mDeck\n\u001b[0;32m      <a href='vscode-notebook-cell:/c%3A/Users/hebba/OneDrive/Blackjack/Black-Jack/Blackjack.ipynb#W2sZmlsZQ%3D%3D?line=5'>6</a>\u001b[0m     player\u001b[39m=\u001b[39mTable\n\u001b[0;32m      <a href='vscode-notebook-cell:/c%3A/Users/hebba/OneDrive/Blackjack/Black-Jack/Blackjack.ipynb#W2sZmlsZQ%3D%3D?line=6'>7</a>\u001b[0m     dealer\u001b[39m=\u001b[39mTable\n",
      "\u001b[1;31mKeyboardInterrupt\u001b[0m: "
     ]
    }
   ],
   "source": [
    "bet=Betting\n",
    "def ask_bet():\n",
    "    try:\n",
    "        \n",
    "        \n",
    "\n",
    "game_on=True\n",
    "while game_on:\n",
    "    new_deck=Deck\n",
    "    player=Table\n",
    "    dealer=Table\n",
    "    \n",
    "    break\n"
   ]
  },
  {
   "cell_type": "code",
   "execution_count": null,
   "metadata": {},
   "outputs": [],
   "source": [
    "\n",
    "\n",
    "\n"
   ]
  },
  {
   "cell_type": "code",
   "execution_count": null,
   "metadata": {},
   "outputs": [],
   "source": []
  }
 ],
 "metadata": {
  "kernelspec": {
   "display_name": "base",
   "language": "python",
   "name": "python3"
  },
  "language_info": {
   "codemirror_mode": {
    "name": "ipython",
    "version": 3
   },
   "file_extension": ".py",
   "mimetype": "text/x-python",
   "name": "python",
   "nbconvert_exporter": "python",
   "pygments_lexer": "ipython3",
   "version": "3.9.12"
  },
  "orig_nbformat": 4
 },
 "nbformat": 4,
 "nbformat_minor": 2
}
